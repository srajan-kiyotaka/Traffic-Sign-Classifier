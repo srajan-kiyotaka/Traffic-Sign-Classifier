{
 "cells": [
  {
   "cell_type": "code",
   "execution_count": 1,
   "metadata": {},
   "outputs": [],
   "source": [
    "import os \r\n",
    "import cv2 \r\n",
    "import numpy as np \r\n"
   ]
  },
  {
   "cell_type": "code",
   "execution_count": 2,
   "metadata": {},
   "outputs": [
    {
     "name": "stdout",
     "output_type": "stream",
     "text": [
      "0 folder done\n",
      "1 folder done\n",
      "2 folder done\n",
      "3 folder done\n",
      "4 folder done\n",
      "5 folder done\n",
      "6 folder done\n",
      "7 folder done\n",
      "8 folder done\n",
      "9 folder done\n",
      "10 folder done\n",
      "11 folder done\n",
      "12 folder done\n",
      "13 folder done\n",
      "14 folder done\n",
      "15 folder done\n",
      "16 folder done\n",
      "17 folder done\n",
      "18 folder done\n",
      "19 folder done\n",
      "20 folder done\n",
      "21 folder done\n",
      "22 folder done\n",
      "23 folder done\n",
      "24 folder done\n",
      "25 folder done\n",
      "26 folder done\n",
      "27 folder done\n",
      "28 folder done\n",
      "29 folder done\n",
      "30 folder done\n",
      "31 folder done\n",
      "32 folder done\n",
      "33 folder done\n",
      "34 folder done\n",
      "35 folder done\n",
      "36 folder done\n",
      "37 folder done\n",
      "38 folder done\n",
      "39 folder done\n",
      "40 folder done\n",
      "41 folder done\n",
      "42 folder done\n"
     ]
    }
   ],
   "source": [
    "images=[]\r\n",
    "lables=[]\r\n",
    "\r\n",
    "#folderlist=list(os.listdir('D:/python/AI Industrial traning/Trafic'))\r\n",
    "for i in range(43):\r\n",
    "    imageslist=list(os.listdir('D:/python/AI Industrial traning/Trafic/'+str(i)))\r\n",
    "    for imgname in imageslist:\r\n",
    "        img=cv2.imread('D:/python/AI Industrial traning/Trafic/'+str(i)+'/'+str(imgname))\r\n",
    "        images.append(img)\r\n",
    "        lables.append(i)\r\n",
    "    print(str(i)+' folder done')"
   ]
  },
  {
   "cell_type": "code",
   "execution_count": 3,
   "metadata": {},
   "outputs": [],
   "source": [
    "images=np.array(images)\r\n",
    "lables=np.array(lables)"
   ]
  },
  {
   "cell_type": "code",
   "execution_count": 4,
   "metadata": {},
   "outputs": [],
   "source": [
    "def b_w(img):\r\n",
    "    convt=cv2.cvtColor(img,cv2.COLOR_BGR2GRAY)\r\n",
    "    convt=convt/255\r\n",
    "    return convt"
   ]
  },
  {
   "cell_type": "code",
   "execution_count": 5,
   "metadata": {},
   "outputs": [
    {
     "data": {
      "text/plain": "(34799, 32, 32)"
     },
     "execution_count": 5,
     "metadata": {},
     "output_type": "execute_result"
    }
   ],
   "source": [
    "images=list(map(b_w,images))\r\n",
    "images=np.array(images)\r\n",
    "images.shape"
   ]
  },
  {
   "cell_type": "code",
   "execution_count": 6,
   "metadata": {},
   "outputs": [],
   "source": [
    "images=images.reshape(34799, 32, 32,1)"
   ]
  },
  {
   "cell_type": "code",
   "execution_count": 7,
   "metadata": {},
   "outputs": [],
   "source": [
    "import keras\r\n",
    "from keras.models import Sequential \r\n",
    "from keras.layers import Dense,Flatten,MaxPooling2D,Conv2D\r\n",
    "from keras.preprocessing.image import ImageDataGenerator\r\n",
    "from keras.utils import to_categorical\r\n",
    "\r\n",
    "train_target=to_categorical(lables)\r\n",
    "\r\n",
    "datagenerated=ImageDataGenerator(height_shift_range=0.12,width_shift_range=0.12,shear_range=0.1,rotation_range=12,zoom_range=0.16)\r\n",
    "datagenerated.fit(images)\r\n",
    "datagenerated.flow(images,lables,batch_size=30)\r\n",
    "\r\n",
    "model=Sequential()\r\n",
    "model.add(Conv2D(120,(3,3),activation='relu',input_shape=(32,32,1)))\r\n",
    "model.add(Conv2D(112,(2,2),activation='relu'))\r\n",
    "model.add(MaxPooling2D((2,2)))\r\n",
    "model.add(Conv2D(90,(3,3),activation='relu'))\r\n",
    "model.add(Conv2D(60,(2,2),activation='relu'))\r\n",
    "model.add(MaxPooling2D((2,2)))\r\n",
    "model.add(Flatten())\r\n",
    "model.add(Dense(1500,activation='relu'))\r\n",
    "model.add(Dense(1000,activation='relu'))\r\n",
    "model.add(Dense(800,activation='relu'))\r\n",
    "model.add(Dense(600,activation='relu'))\r\n",
    "model.add(Dense(400,activation='relu'))\r\n",
    "model.add(Dense(200,activation='relu'))\r\n",
    "model.add(Dense(43,activation='softmax'))"
   ]
  },
  {
   "cell_type": "code",
   "execution_count": 8,
   "metadata": {},
   "outputs": [
    {
     "name": "stderr",
     "output_type": "stream",
     "text": [
      "C:\\Users\\Krito\\anaconda3\\lib\\site-packages\\tensorflow\\python\\keras\\engine\\training.py:1844: UserWarning: `Model.fit_generator` is deprecated and will be removed in a future version. Please use `Model.fit`, which supports generators.\n",
      "  warnings.warn('`Model.fit_generator` is deprecated and '\n"
     ]
    },
    {
     "name": "stdout",
     "output_type": "stream",
     "text": [
      "Epoch 1/20\n",
      "1160/1160 [==============================] - 182s 156ms/step - loss: 2.9238 - accuracy: 0.1635\n",
      "Epoch 2/20\n",
      "1160/1160 [==============================] - 179s 154ms/step - loss: 0.8915 - accuracy: 0.7117\n",
      "Epoch 3/20\n",
      "1160/1160 [==============================] - 179s 154ms/step - loss: 0.4067 - accuracy: 0.8744\n",
      "Epoch 4/20\n",
      "1160/1160 [==============================] - 179s 155ms/step - loss: 0.2707 - accuracy: 0.9202\n",
      "Epoch 5/20\n",
      "1160/1160 [==============================] - 180s 155ms/step - loss: 0.1971 - accuracy: 0.9462\n",
      "Epoch 6/20\n",
      "1160/1160 [==============================] - 180s 155ms/step - loss: 0.1702 - accuracy: 0.9542\n",
      "Epoch 7/20\n",
      "1160/1160 [==============================] - 180s 155ms/step - loss: 0.1545 - accuracy: 0.9595\n",
      "Epoch 8/20\n",
      "1160/1160 [==============================] - 180s 155ms/step - loss: 0.1424 - accuracy: 0.9641\n",
      "Epoch 9/20\n",
      "1160/1160 [==============================] - 180s 155ms/step - loss: 0.1433 - accuracy: 0.9649\n",
      "Epoch 10/20\n",
      "1160/1160 [==============================] - 181s 156ms/step - loss: 0.1258 - accuracy: 0.9692\n",
      "Epoch 11/20\n",
      "1160/1160 [==============================] - 181s 156ms/step - loss: 0.1349 - accuracy: 0.9668\n",
      "Epoch 12/20\n",
      "1160/1160 [==============================] - 181s 156ms/step - loss: 0.1120 - accuracy: 0.9730\n",
      "Epoch 13/20\n",
      "1160/1160 [==============================] - 181s 156ms/step - loss: 0.1112 - accuracy: 0.9726\n",
      "Epoch 14/20\n",
      "1160/1160 [==============================] - 176s 152ms/step - loss: 0.1036 - accuracy: 0.9752\n",
      "Epoch 15/20\n",
      "1160/1160 [==============================] - 175s 151ms/step - loss: 0.0925 - accuracy: 0.9794\n",
      "Epoch 16/20\n",
      "1160/1160 [==============================] - 179s 154ms/step - loss: 0.1022 - accuracy: 0.9761\n",
      "Epoch 17/20\n",
      "1160/1160 [==============================] - 173s 149ms/step - loss: 0.0911 - accuracy: 0.9786\n",
      "Epoch 18/20\n",
      "1160/1160 [==============================] - 170s 146ms/step - loss: 0.0927 - accuracy: 0.9775\n",
      "Epoch 19/20\n",
      "1160/1160 [==============================] - 169s 145ms/step - loss: 0.0989 - accuracy: 0.9778\n",
      "Epoch 20/20\n",
      "1160/1160 [==============================] - 169s 145ms/step - loss: 0.0790 - accuracy: 0.9812\n"
     ]
    },
    {
     "data": {
      "text/plain": "<tensorflow.python.keras.callbacks.History at 0x21a856fe880>"
     },
     "execution_count": 8,
     "metadata": {},
     "output_type": "execute_result"
    }
   ],
   "source": [
    "model.compile(optimizer='adam',loss='categorical_crossentropy',metrics=['accuracy'])\r\n",
    "model.fit_generator(datagenerated.flow(images,train_target,batch_size=30),epochs=20)"
   ]
  },
  {
   "cell_type": "code",
   "execution_count": 18,
   "metadata": {},
   "outputs": [],
   "source": [
    "# Funtion to find the value of lables\r\n",
    "\r\n",
    "def indexvalue(classNo):\r\n",
    "    if   classNo == 0: return 'Speed Limit 20 km/h'\r\n",
    "    elif classNo == 1: return 'Speed Limit 30 km/h'\r\n",
    "    elif classNo == 2: return 'Speed Limit 50 km/h'\r\n",
    "    elif classNo == 3: return 'Speed Limit 60 km/h'\r\n",
    "    elif classNo == 4: return 'Speed Limit 70 km/h'\r\n",
    "    elif classNo == 5: return 'Speed Limit 80 km/h'\r\n",
    "    elif classNo == 6: return 'End of Speed Limit 80 km/h'\r\n",
    "    elif classNo == 7: return 'Speed Limit 100 km/h'\r\n",
    "    elif classNo == 8: return 'Speed Limit 120 km/h'\r\n",
    "    elif classNo == 9: return 'No passing'\r\n",
    "    elif classNo == 10: return 'No passing for vechiles over 3.5 metric tons'\r\n",
    "    elif classNo == 11: return 'Right-of-way at the next intersection'\r\n",
    "    elif classNo == 12: return 'Priority road'\r\n",
    "    elif classNo == 13: return 'Yield'\r\n",
    "    elif classNo == 14: return 'Stop'\r\n",
    "    elif classNo == 15: return 'No vechiles'\r\n",
    "    elif classNo == 16: return 'Vechiles over 3.5 metric tons prohibited'\r\n",
    "    elif classNo == 17: return 'No entry'\r\n",
    "    elif classNo == 18: return 'General caution'\r\n",
    "    elif classNo == 19: return 'Dangerous curve to the left'\r\n",
    "    elif classNo == 20: return 'Dangerous curve to the right'\r\n",
    "    elif classNo == 21: return 'Double curve'\r\n",
    "    elif classNo == 22: return 'Bumpy road'\r\n",
    "    elif classNo == 23: return 'Slippery road'\r\n",
    "    elif classNo == 24: return 'Road narrows on the right'\r\n",
    "    elif classNo == 25: return 'Road work'\r\n",
    "    elif classNo == 26: return 'Traffic signals'\r\n",
    "    elif classNo == 27: return 'Pedestrians'\r\n",
    "    elif classNo == 28: return 'Children crossing'\r\n",
    "    elif classNo == 29: return 'Bicycles crossing'\r\n",
    "    elif classNo == 30: return 'Beware of ice/snow'\r\n",
    "    elif classNo == 31: return 'Wild animals crossing'\r\n",
    "    elif classNo == 32: return 'End of all speed and passing limits'\r\n",
    "    elif classNo == 33: return 'Turn right ahead'\r\n",
    "    elif classNo == 34: return 'Turn left ahead'\r\n",
    "    elif classNo == 35: return 'Ahead only'\r\n",
    "    elif classNo == 36: return 'Go straight or right'\r\n",
    "    elif classNo == 37: return 'Go straight or left'\r\n",
    "    elif classNo == 38: return 'Keep right'\r\n",
    "    elif classNo == 39: return 'Keep left'\r\n",
    "    elif classNo == 40: return 'Roundabout mandatory'\r\n",
    "    elif classNo == 41: return 'End of no passing'\r\n",
    "    elif classNo == 42: return 'End of no passing by vechiles over 3.5 metric tons'\r\n",
    "    \r\n"
   ]
  },
  {
   "cell_type": "code",
   "execution_count": 19,
   "metadata": {},
   "outputs": [
    {
     "data": {
      "text/plain": "True"
     },
     "execution_count": 19,
     "metadata": {},
     "output_type": "execute_result"
    }
   ],
   "source": [
    "capture=cv2.VideoCapture(0)\r\n",
    "capture.set(3,720)\r\n",
    "capture.set(4,720)\r\n",
    "capture.set(10,190)"
   ]
  },
  {
   "cell_type": "code",
   "execution_count": 20,
   "metadata": {},
   "outputs": [],
   "source": [
    "font = cv2.FONT_HERSHEY_SIMPLEX\r\n",
    "while True:\r\n",
    "    sucess,imgOriginal=capture.read()\r\n",
    "    img=np.asarray(imgOriginal)\r\n",
    "    img=cv2.resize(img,(32,32))\r\n",
    "    img=b_w(img)\r\n",
    "    cv2.imshow(\"Processed Image\",img)\r\n",
    "    img=img.reshape(1,32,32,1)\r\n",
    "    cv2.putText(imgOriginal,\"Class: \",(20,40),font,0.75,(0,10,255),2,cv2.LINE_AA)\r\n",
    "    cv2.putText(imgOriginal,\"Probability: \",(20,90),font,0.75,(0,10,255),2,cv2.LINE_AA)\r\n",
    "    predictions=model.predict(img)\r\n",
    "    classIndex=model.predict_classes(img)\r\n",
    "    probabilityValue=np.amax(predictions)\r\n",
    "    if probabilityValue>0.75:\r\n",
    "        cv2.putText(imgOriginal,str(classIndex) + \" \"+ str(indexvalue(classIndex)),(130,40),font,0.75,(0,0,255),2,cv2.LINE_AA)\r\n",
    "        cv2.putText(imgOriginal,str(round(probabilityValue*100,2)) + \"%\",(130,90),font,0.75,(0,0,255),2,cv2.LINE_AA)\r\n",
    "    cv2.imshow(\"Result\",imgOriginal)\r\n",
    "    if cv2.waitKey(1)==113:\r\n",
    "        cv2.destroyAllWindows()\r\n",
    "        break"
   ]
  }
 ],
 "metadata": {
  "kernelspec": {
   "display_name": "Python 3.8.5 64-bit (conda)",
   "name": "python385jvsc74a57bd0703eb0b2cebe7487524b5d8d66739fadfc2748549a47fadd62d322a8fd06eee6"
  },
  "language_info": {
   "name": "python",
   "version": ""
  },
  "orig_nbformat": 2
 },
 "nbformat": 4,
 "nbformat_minor": 2
}